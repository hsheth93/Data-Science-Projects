{
 "cells": [
  {
   "cell_type": "markdown",
   "metadata": {},
   "source": [
    "# E-news Express Hypothesis Testing "
   ]
  },
  {
   "cell_type": "markdown",
   "metadata": {},
   "source": [
    "## Introduction:\n",
    "\n",
    "\n",
    "E-news express is working on launching a new landing page on the company website with the purpose of gathering new subscribers to the service. In order to test the efficacy of the new landing page, an A/B test was conducted wherein a sample of 100 visitors to the website were examined in order to confirm if the new site was more effective or not. Half of the group served as the control group and they were shown the existing \"old\" webpage and the other group was the treatment group which was exposed to the \"new\" landing page. The test then measured what proportion of each group were converted into new subscribers. Additional details such as page language and time spent on the page per user were also collected to see how these factors also influenced conversion rate."
   ]
  },
  {
   "cell_type": "markdown",
   "metadata": {},
   "source": [
    "## Problem Statement:\n",
    "\n",
    "Is the new page more effective at garnering new subscribers and therefore worth additional investment, or has there been no real change in conversion rate amongst the user population regardless of which page is used?"
   ]
  },
  {
   "cell_type": "markdown",
   "metadata": {},
   "source": [
    "#### Data Dictionary:\n",
    "-user_id - The user id of the user who visited the news portal landing page,\n",
    "\n",
    "-group - The group the user belongs to (control vs treatment). The control group visited the old page and the treatment group visited the new page. \n",
    "\n",
    "-landing_page - which landing_page version (new vs. old) that the user visited.\n",
    "\n",
    "-time_spent_on_the_page - How much time (in minutes) was spent on the page by the user. \n",
    "\n",
    "-converted - whether or not the user became a subscriber (yes vs no).\n",
    "\n",
    "-language_preferred - which language (English, French or Spanish) that the user chose to view the page.\n"
   ]
  },
  {
   "cell_type": "code",
   "execution_count": 1,
   "metadata": {},
   "outputs": [],
   "source": [
    "#Import Necessary Packages\n",
    "import pandas as pd #library used for data manipulation and analysis\n",
    "import numpy as np # library used for working with arrays.\n",
    "import matplotlib.pyplot as plt # library for plots and visualisations\n",
    "import seaborn as sns # library for visualisations\n",
    "from matplotlib import pyplot as plt\n",
    "%matplotlib inline \n",
    "import scipy.stats as stats \n",
    "from matplotlib.pyplot import figure\n",
    "import warnings\n",
    "warnings.simplefilter(action='ignore', category=FutureWarning)\n",
    "\n",
    "sns.set_style(\"darkgrid\")\n",
    "sns.set()"
   ]
  },
  {
   "cell_type": "code",
   "execution_count": 2,
   "metadata": {},
   "outputs": [],
   "source": [
    "#Read in CSV\n",
    "df = pd.read_csv('abtest-1.csv')"
   ]
  },
  {
   "cell_type": "code",
   "execution_count": 3,
   "metadata": {},
   "outputs": [
    {
     "data": {
      "text/plain": [
       "(100, 6)"
      ]
     },
     "execution_count": 3,
     "metadata": {},
     "output_type": "execute_result"
    }
   ],
   "source": [
    "#observer dataframe shape\n",
    "df.shape"
   ]
  },
  {
   "cell_type": "markdown",
   "metadata": {},
   "source": [
    "The sample size has 100 rows and 6 columns."
   ]
  },
  {
   "cell_type": "code",
   "execution_count": 4,
   "metadata": {},
   "outputs": [
    {
     "name": "stdout",
     "output_type": "stream",
     "text": [
      "<class 'pandas.core.frame.DataFrame'>\n",
      "RangeIndex: 100 entries, 0 to 99\n",
      "Data columns (total 6 columns):\n",
      " #   Column                  Non-Null Count  Dtype  \n",
      "---  ------                  --------------  -----  \n",
      " 0   user_id                 100 non-null    int64  \n",
      " 1   group                   100 non-null    object \n",
      " 2   landing_page            100 non-null    object \n",
      " 3   time_spent_on_the_page  100 non-null    float64\n",
      " 4   converted               100 non-null    object \n",
      " 5   language_preferred      100 non-null    object \n",
      "dtypes: float64(1), int64(1), object(4)\n",
      "memory usage: 4.8+ KB\n"
     ]
    }
   ],
   "source": [
    "#Reviewing the null values and data types for each column\n",
    "df.info()"
   ]
  },
  {
   "cell_type": "markdown",
   "metadata": {},
   "source": [
    "There is only one notable numeric variable within the data set (time spent on the page) as user id is mostly irrelevant for the purposes of hypothesis validation. The rest of the factors observed are all objects and catagorical in nature and can be converted to catagorical variables for the purpose of saving disk space. There are no null values in any of the columns of the data set."
   ]
  },
  {
   "cell_type": "code",
   "execution_count": 5,
   "metadata": {},
   "outputs": [],
   "source": [
    "#Converting the nonnumeric columns to categories to save disk space\n",
    "df['group'] = df['group'].astype('category')\n",
    "df['landing_page'] =df['landing_page'].astype('category')\n",
    "df['converted'] = df['converted'].astype('category')\n",
    "df['language_preferred'] = df['language_preferred'].astype('category')"
   ]
  },
  {
   "cell_type": "code",
   "execution_count": 6,
   "metadata": {},
   "outputs": [
    {
     "name": "stdout",
     "output_type": "stream",
     "text": [
      "<class 'pandas.core.frame.DataFrame'>\n",
      "RangeIndex: 100 entries, 0 to 99\n",
      "Data columns (total 6 columns):\n",
      " #   Column                  Non-Null Count  Dtype   \n",
      "---  ------                  --------------  -----   \n",
      " 0   user_id                 100 non-null    int64   \n",
      " 1   group                   100 non-null    category\n",
      " 2   landing_page            100 non-null    category\n",
      " 3   time_spent_on_the_page  100 non-null    float64 \n",
      " 4   converted               100 non-null    category\n",
      " 5   language_preferred      100 non-null    category\n",
      "dtypes: category(4), float64(1), int64(1)\n",
      "memory usage: 2.5 KB\n"
     ]
    }
   ],
   "source": [
    "#confirming datatypes after converting the object columns to categories as appropriate\n",
    "df.info()"
   ]
  },
  {
   "cell_type": "markdown",
   "metadata": {},
   "source": [
    "- After converting all the string variables, now the data set contains 4 catagorical variables and 1 float variable. \n",
    "- As mentioned earlier the user_id column remains irrelevant."
   ]
  },
  {
   "cell_type": "code",
   "execution_count": 7,
   "metadata": {},
   "outputs": [
    {
     "data": {
      "text/html": [
       "<div>\n",
       "<style scoped>\n",
       "    .dataframe tbody tr th:only-of-type {\n",
       "        vertical-align: middle;\n",
       "    }\n",
       "\n",
       "    .dataframe tbody tr th {\n",
       "        vertical-align: top;\n",
       "    }\n",
       "\n",
       "    .dataframe thead th {\n",
       "        text-align: right;\n",
       "    }\n",
       "</style>\n",
       "<table border=\"1\" class=\"dataframe\">\n",
       "  <thead>\n",
       "    <tr style=\"text-align: right;\">\n",
       "      <th></th>\n",
       "      <th>count</th>\n",
       "      <th>unique</th>\n",
       "      <th>top</th>\n",
       "      <th>freq</th>\n",
       "      <th>mean</th>\n",
       "      <th>std</th>\n",
       "      <th>min</th>\n",
       "      <th>25%</th>\n",
       "      <th>50%</th>\n",
       "      <th>75%</th>\n",
       "      <th>max</th>\n",
       "    </tr>\n",
       "  </thead>\n",
       "  <tbody>\n",
       "    <tr>\n",
       "      <th>user_id</th>\n",
       "      <td>100</td>\n",
       "      <td>NaN</td>\n",
       "      <td>NaN</td>\n",
       "      <td>NaN</td>\n",
       "      <td>546517</td>\n",
       "      <td>52.2958</td>\n",
       "      <td>546443</td>\n",
       "      <td>546468</td>\n",
       "      <td>546492</td>\n",
       "      <td>546567</td>\n",
       "      <td>546592</td>\n",
       "    </tr>\n",
       "    <tr>\n",
       "      <th>group</th>\n",
       "      <td>100</td>\n",
       "      <td>2</td>\n",
       "      <td>treatment</td>\n",
       "      <td>50</td>\n",
       "      <td>NaN</td>\n",
       "      <td>NaN</td>\n",
       "      <td>NaN</td>\n",
       "      <td>NaN</td>\n",
       "      <td>NaN</td>\n",
       "      <td>NaN</td>\n",
       "      <td>NaN</td>\n",
       "    </tr>\n",
       "    <tr>\n",
       "      <th>landing_page</th>\n",
       "      <td>100</td>\n",
       "      <td>2</td>\n",
       "      <td>old</td>\n",
       "      <td>50</td>\n",
       "      <td>NaN</td>\n",
       "      <td>NaN</td>\n",
       "      <td>NaN</td>\n",
       "      <td>NaN</td>\n",
       "      <td>NaN</td>\n",
       "      <td>NaN</td>\n",
       "      <td>NaN</td>\n",
       "    </tr>\n",
       "    <tr>\n",
       "      <th>time_spent_on_the_page</th>\n",
       "      <td>100</td>\n",
       "      <td>NaN</td>\n",
       "      <td>NaN</td>\n",
       "      <td>NaN</td>\n",
       "      <td>5.3778</td>\n",
       "      <td>2.37817</td>\n",
       "      <td>0.19</td>\n",
       "      <td>3.88</td>\n",
       "      <td>5.415</td>\n",
       "      <td>7.0225</td>\n",
       "      <td>10.71</td>\n",
       "    </tr>\n",
       "    <tr>\n",
       "      <th>converted</th>\n",
       "      <td>100</td>\n",
       "      <td>2</td>\n",
       "      <td>yes</td>\n",
       "      <td>54</td>\n",
       "      <td>NaN</td>\n",
       "      <td>NaN</td>\n",
       "      <td>NaN</td>\n",
       "      <td>NaN</td>\n",
       "      <td>NaN</td>\n",
       "      <td>NaN</td>\n",
       "      <td>NaN</td>\n",
       "    </tr>\n",
       "    <tr>\n",
       "      <th>language_preferred</th>\n",
       "      <td>100</td>\n",
       "      <td>3</td>\n",
       "      <td>Spanish</td>\n",
       "      <td>34</td>\n",
       "      <td>NaN</td>\n",
       "      <td>NaN</td>\n",
       "      <td>NaN</td>\n",
       "      <td>NaN</td>\n",
       "      <td>NaN</td>\n",
       "      <td>NaN</td>\n",
       "      <td>NaN</td>\n",
       "    </tr>\n",
       "  </tbody>\n",
       "</table>\n",
       "</div>"
      ],
      "text/plain": [
       "                       count unique        top freq    mean      std     min  \\\n",
       "user_id                  100    NaN        NaN  NaN  546517  52.2958  546443   \n",
       "group                    100      2  treatment   50     NaN      NaN     NaN   \n",
       "landing_page             100      2        old   50     NaN      NaN     NaN   \n",
       "time_spent_on_the_page   100    NaN        NaN  NaN  5.3778  2.37817    0.19   \n",
       "converted                100      2        yes   54     NaN      NaN     NaN   \n",
       "language_preferred       100      3    Spanish   34     NaN      NaN     NaN   \n",
       "\n",
       "                           25%     50%     75%     max  \n",
       "user_id                 546468  546492  546567  546592  \n",
       "group                      NaN     NaN     NaN     NaN  \n",
       "landing_page               NaN     NaN     NaN     NaN  \n",
       "time_spent_on_the_page    3.88   5.415  7.0225   10.71  \n",
       "converted                  NaN     NaN     NaN     NaN  \n",
       "language_preferred         NaN     NaN     NaN     NaN  "
      ]
     },
     "execution_count": 7,
     "metadata": {},
     "output_type": "execute_result"
    }
   ],
   "source": [
    "#Summary statistics for the dataframe\n",
    "df.describe(include = 'all').T"
   ]
  },
  {
   "cell_type": "code",
   "execution_count": 8,
   "metadata": {},
   "outputs": [
    {
     "data": {
      "text/html": [
       "<div>\n",
       "<style scoped>\n",
       "    .dataframe tbody tr th:only-of-type {\n",
       "        vertical-align: middle;\n",
       "    }\n",
       "\n",
       "    .dataframe tbody tr th {\n",
       "        vertical-align: top;\n",
       "    }\n",
       "\n",
       "    .dataframe thead th {\n",
       "        text-align: right;\n",
       "    }\n",
       "</style>\n",
       "<table border=\"1\" class=\"dataframe\">\n",
       "  <thead>\n",
       "    <tr style=\"text-align: right;\">\n",
       "      <th></th>\n",
       "      <th>user_id</th>\n",
       "      <th>group</th>\n",
       "      <th>landing_page</th>\n",
       "      <th>time_spent_on_the_page</th>\n",
       "      <th>converted</th>\n",
       "      <th>language_preferred</th>\n",
       "    </tr>\n",
       "  </thead>\n",
       "  <tbody>\n",
       "    <tr>\n",
       "      <th>36</th>\n",
       "      <td>546551</td>\n",
       "      <td>control</td>\n",
       "      <td>old</td>\n",
       "      <td>3.13</td>\n",
       "      <td>no</td>\n",
       "      <td>English</td>\n",
       "    </tr>\n",
       "    <tr>\n",
       "      <th>33</th>\n",
       "      <td>546577</td>\n",
       "      <td>control</td>\n",
       "      <td>old</td>\n",
       "      <td>4.52</td>\n",
       "      <td>no</td>\n",
       "      <td>Spanish</td>\n",
       "    </tr>\n",
       "    <tr>\n",
       "      <th>8</th>\n",
       "      <td>546461</td>\n",
       "      <td>treatment</td>\n",
       "      <td>new</td>\n",
       "      <td>10.71</td>\n",
       "      <td>yes</td>\n",
       "      <td>French</td>\n",
       "    </tr>\n",
       "    <tr>\n",
       "      <th>30</th>\n",
       "      <td>546464</td>\n",
       "      <td>treatment</td>\n",
       "      <td>new</td>\n",
       "      <td>5.41</td>\n",
       "      <td>yes</td>\n",
       "      <td>English</td>\n",
       "    </tr>\n",
       "    <tr>\n",
       "      <th>95</th>\n",
       "      <td>546446</td>\n",
       "      <td>treatment</td>\n",
       "      <td>new</td>\n",
       "      <td>5.15</td>\n",
       "      <td>no</td>\n",
       "      <td>Spanish</td>\n",
       "    </tr>\n",
       "  </tbody>\n",
       "</table>\n",
       "</div>"
      ],
      "text/plain": [
       "    user_id      group landing_page  time_spent_on_the_page converted  \\\n",
       "36   546551    control          old                    3.13        no   \n",
       "33   546577    control          old                    4.52        no   \n",
       "8    546461  treatment          new                   10.71       yes   \n",
       "30   546464  treatment          new                    5.41       yes   \n",
       "95   546446  treatment          new                    5.15        no   \n",
       "\n",
       "   language_preferred  \n",
       "36            English  \n",
       "33            Spanish  \n",
       "8              French  \n",
       "30            English  \n",
       "95            Spanish  "
      ]
     },
     "execution_count": 8,
     "metadata": {},
     "output_type": "execute_result"
    }
   ],
   "source": [
    "#Taking an initial sample of the dataset to get an initial grasp of the user data.\n",
    "df.sample(5)"
   ]
  },
  {
   "cell_type": "markdown",
   "metadata": {},
   "source": [
    "- There are a total of 100 users in the sample. \n",
    "- The dataset is split 50/50 between the control and treatment groups which were exposed to the old and new pages respectively. \n",
    "- The most common language preferred is Spanish although French and English users were also observed.\n",
    "- The converted field is follows a binomial distribution where final conversion is denoted as either 'yes' or 'no'.  \n",
    "- Although the time spent on the page has a slight left skew, the median and mean values are fairly close together at a little over 5 seconds. This indicates a distinct possibility that that the time spent will follow a more normalized distribution that is symmetrical."
   ]
  },
  {
   "cell_type": "code",
   "execution_count": 9,
   "metadata": {},
   "outputs": [],
   "source": [
    "#Removing the user_id column to clean up the dataset as that field will serve no purpose in terms of this preliminary analysis\n",
    "df = df.drop('user_id', axis = 1)"
   ]
  },
  {
   "cell_type": "code",
   "execution_count": 10,
   "metadata": {},
   "outputs": [
    {
     "data": {
      "text/html": [
       "<div>\n",
       "<style scoped>\n",
       "    .dataframe tbody tr th:only-of-type {\n",
       "        vertical-align: middle;\n",
       "    }\n",
       "\n",
       "    .dataframe tbody tr th {\n",
       "        vertical-align: top;\n",
       "    }\n",
       "\n",
       "    .dataframe thead th {\n",
       "        text-align: right;\n",
       "    }\n",
       "</style>\n",
       "<table border=\"1\" class=\"dataframe\">\n",
       "  <thead>\n",
       "    <tr style=\"text-align: right;\">\n",
       "      <th></th>\n",
       "      <th>group</th>\n",
       "      <th>landing_page</th>\n",
       "      <th>time_spent_on_the_page</th>\n",
       "      <th>converted</th>\n",
       "      <th>language_preferred</th>\n",
       "    </tr>\n",
       "  </thead>\n",
       "  <tbody>\n",
       "    <tr>\n",
       "      <th>0</th>\n",
       "      <td>control</td>\n",
       "      <td>old</td>\n",
       "      <td>3.48</td>\n",
       "      <td>no</td>\n",
       "      <td>Spanish</td>\n",
       "    </tr>\n",
       "    <tr>\n",
       "      <th>1</th>\n",
       "      <td>treatment</td>\n",
       "      <td>new</td>\n",
       "      <td>7.13</td>\n",
       "      <td>yes</td>\n",
       "      <td>English</td>\n",
       "    </tr>\n",
       "    <tr>\n",
       "      <th>2</th>\n",
       "      <td>treatment</td>\n",
       "      <td>new</td>\n",
       "      <td>4.40</td>\n",
       "      <td>no</td>\n",
       "      <td>Spanish</td>\n",
       "    </tr>\n",
       "    <tr>\n",
       "      <th>3</th>\n",
       "      <td>control</td>\n",
       "      <td>old</td>\n",
       "      <td>3.02</td>\n",
       "      <td>no</td>\n",
       "      <td>French</td>\n",
       "    </tr>\n",
       "    <tr>\n",
       "      <th>4</th>\n",
       "      <td>treatment</td>\n",
       "      <td>new</td>\n",
       "      <td>4.75</td>\n",
       "      <td>yes</td>\n",
       "      <td>Spanish</td>\n",
       "    </tr>\n",
       "  </tbody>\n",
       "</table>\n",
       "</div>"
      ],
      "text/plain": [
       "       group landing_page  time_spent_on_the_page converted language_preferred\n",
       "0    control          old                    3.48        no            Spanish\n",
       "1  treatment          new                    7.13       yes            English\n",
       "2  treatment          new                    4.40        no            Spanish\n",
       "3    control          old                    3.02        no             French\n",
       "4  treatment          new                    4.75       yes            Spanish"
      ]
     },
     "execution_count": 10,
     "metadata": {},
     "output_type": "execute_result"
    }
   ],
   "source": [
    "#Confirming the data view\n",
    "df.head()"
   ]
  },
  {
   "cell_type": "markdown",
   "metadata": {},
   "source": [
    "## Exploratory Data Analysis\n",
    "\n",
    "\n"
   ]
  },
  {
   "cell_type": "markdown",
   "metadata": {},
   "source": [
    "### Univariate"
   ]
  },
  {
   "cell_type": "code",
   "execution_count": 11,
   "metadata": {},
   "outputs": [
    {
     "data": {
      "image/png": "[encoded data removed]",
      "text/plain": [
       "<Figure size 432x288 with 1 Axes>"
      ]
     },
     "metadata": {},
     "output_type": "display_data"
    }
   ],
   "source": [
    "#Basic distplot to understand the distribution of the timespent per user on the webpage regardless of version.\n",
    "lang = sns.distplot(df['time_spent_on_the_page'], color = 'navy')\n",
    "lang.set_xlabel(\"Minutes Spent on Page\", fontsize = 10)\n",
    "lang.set(title='Time Spent on Page')\n",
    "#figure(figsize=(10, 10))\n",
    "plt.savefig('histogram_time_spent.png')"
   ]
  },
  {
   "cell_type": "markdown",
   "metadata": {},
   "source": [
    "As expected, the time spent on the page appears to follow a normal distribution. "
   ]
  },
  {
   "cell_type": "code",
   "execution_count": 12,
   "metadata": {},
   "outputs": [
    {
     "data": {
      "image/png": "[encoded data removed]",
      "text/plain": [
       "<Figure size 432x288 with 1 Axes>"
      ]
     },
     "metadata": {},
     "output_type": "display_data"
    }
   ],
   "source": [
    "#Creating a box plot to have a better grasp of the overall statiscal summary for the time spent on either landing page amongst the 100 user sample group\n",
    "lang =sns.boxplot(x='time_spent_on_the_page', data =df)\n",
    "#lang.set_ylabel(\"Minutes Spent on Page\", fontsize = 10)\n",
    "lang.set_xlabel(\"Minutes Spent on Page\", fontsize = 10)\n",
    "lang.set(title='Time Spent on Page')\n",
    "#figure(figsize=(10, 10))\n",
    "plt.savefig('box_plot_timespent.png')"
   ]
  },
  {
   "cell_type": "markdown",
   "metadata": {},
   "source": [
    "The minimum amount of time spent on the page is .19 minutes and the maximum is 10.71 minutes. The mean amount of time spent is ~5.4 minutes and the median is about ~5.4 minutes as well which explains why the distribution appears symmetrical on both the box plot and the distplot."
   ]
  },
  {
   "cell_type": "code",
   "execution_count": 13,
   "metadata": {},
   "outputs": [
    {
     "data": {
      "image/png": "[encoded data removed]",
      "text/plain": [
       "<Figure size 432x288 with 1 Axes>"
      ]
     },
     "metadata": {},
     "output_type": "display_data"
    }
   ],
   "source": [
    "#Graph to confirm the distribution of the control and treatment groups\n",
    "lang =sns.countplot(x ='group', data =df)\n",
    "lang.set_ylabel(\"User Count\", fontsize = 10)\n",
    "lang.set_xlabel(\"Group\", fontsize = 10)\n",
    "lang.set(title='Users Per Group')\n",
    "#figure(figsize=(10, 10))\n",
    "plt.savefig('group_count.png')"
   ]
  },
  {
   "cell_type": "code",
   "execution_count": 14,
   "metadata": {},
   "outputs": [
    {
     "data": {
      "text/html": [
       "<div>\n",
       "<style scoped>\n",
       "    .dataframe tbody tr th:only-of-type {\n",
       "        vertical-align: middle;\n",
       "    }\n",
       "\n",
       "    .dataframe tbody tr th {\n",
       "        vertical-align: top;\n",
       "    }\n",
       "\n",
       "    .dataframe thead th {\n",
       "        text-align: right;\n",
       "    }\n",
       "</style>\n",
       "<table border=\"1\" class=\"dataframe\">\n",
       "  <thead>\n",
       "    <tr style=\"text-align: right;\">\n",
       "      <th>landing_page</th>\n",
       "      <th>new</th>\n",
       "      <th>old</th>\n",
       "      <th>Total</th>\n",
       "    </tr>\n",
       "    <tr>\n",
       "      <th>group</th>\n",
       "      <th></th>\n",
       "      <th></th>\n",
       "      <th></th>\n",
       "    </tr>\n",
       "  </thead>\n",
       "  <tbody>\n",
       "    <tr>\n",
       "      <th>control</th>\n",
       "      <td>0</td>\n",
       "      <td>50</td>\n",
       "      <td>50</td>\n",
       "    </tr>\n",
       "    <tr>\n",
       "      <th>treatment</th>\n",
       "      <td>50</td>\n",
       "      <td>0</td>\n",
       "      <td>50</td>\n",
       "    </tr>\n",
       "    <tr>\n",
       "      <th>Total</th>\n",
       "      <td>50</td>\n",
       "      <td>50</td>\n",
       "      <td>100</td>\n",
       "    </tr>\n",
       "  </tbody>\n",
       "</table>\n",
       "</div>"
      ],
      "text/plain": [
       "landing_page  new  old  Total\n",
       "group                        \n",
       "control         0   50     50\n",
       "treatment      50    0     50\n",
       "Total          50   50    100"
      ]
     },
     "execution_count": 14,
     "metadata": {},
     "output_type": "execute_result"
    }
   ],
   "source": [
    "pd.crosstab(df.group, df.landing_page, margins=True, margins_name=\"Total\")\n"
   ]
  },
  {
   "cell_type": "markdown",
   "metadata": {},
   "source": [
    "As expected, the sample is split 50/50 between the control and treatment groups. The control group only viewed the old version of the web page, and the treatment group only visted the new version."
   ]
  },
  {
   "cell_type": "code",
   "execution_count": 15,
   "metadata": {},
   "outputs": [
    {
     "data": {
      "image/png": "[encoded data removed]",
      "text/plain": [
       "<Figure size 432x288 with 1 Axes>"
      ]
     },
     "metadata": {},
     "output_type": "display_data"
    }
   ],
   "source": [
    "#Creating a graph to compare overall conversion rates overall\n",
    "lang = sns.countplot(x ='converted', data =df, palette = 'hls')\n",
    "lang.set_ylabel(\"Count of Users\", fontsize = 10)\n",
    "lang.set_xlabel(\"Converted\", fontsize = 10)\n",
    "lang.set(title='Users Converted')\n",
    "#figure(figsize=(10, 10))\n",
    "plt.savefig('converted_count.png')"
   ]
  },
  {
   "cell_type": "markdown",
   "metadata": {},
   "source": [
    "Slightly more people in the sample were converted than not. We don't yet know how much this breakdown is influenced by which page was being viewed."
   ]
  },
  {
   "cell_type": "code",
   "execution_count": 16,
   "metadata": {},
   "outputs": [
    {
     "data": {
      "image/png": "[encoded data removed]",
      "text/plain": [
       "<Figure size 432x288 with 1 Axes>"
      ]
     },
     "metadata": {},
     "output_type": "display_data"
    }
   ],
   "source": [
    "#Creating a simple graph to see how many users were observed in each language group\n",
    "lang =sns.countplot(x='language_preferred', data =df,palette= 'Set2')\n",
    "lang.set_ylabel(\"Count of Users Observerd\", fontsize = 10)\n",
    "lang.set_xlabel(\"Language\", fontsize = 10)\n",
    "lang.set(title='Overall Site Visitors Based on Language Preference')\n",
    "#figure(figsize=(10, 10))\n",
    "plt.savefig('language_count.png')"
   ]
  },
  {
   "cell_type": "markdown",
   "metadata": {},
   "source": [
    "The number of users for each language is fairly uniformly distributed amongst the three languages however, there were  slightly fewer users exposed to the English version of the page in the sample when compared to the Spanish or French versions."
   ]
  },
  {
   "cell_type": "markdown",
   "metadata": {},
   "source": [
    "### Bivariate/Multivariate"
   ]
  },
  {
   "cell_type": "code",
   "execution_count": 17,
   "metadata": {},
   "outputs": [
    {
     "data": {
      "image/png": "[encoded data removed]",
      "text/plain": [
       "<Figure size 720x360 with 1 Axes>"
      ]
     },
     "metadata": {},
     "output_type": "display_data"
    }
   ],
   "source": [
    "#Creating a graph to understand the relationship between conversion  and language preference\n",
    "from matplotlib import pyplot as plt\n",
    "plt.figure(figsize=(10,5))\n",
    "bo = sns.countplot(x='converted', hue = 'language_preferred', data =df, palette= 'Set2')\n",
    "bo.set_ylabel(\"Number of Users\", fontsize = 10)\n",
    "bo.set_xlabel(\"Language\", fontsize = 10)\n",
    "bo.set(title='Users Converted based on Language Preference')\n",
    "#figure(figsize=(10, 10))\n",
    "#plt.legend(loc='upper left')\n",
    "#figure(figsize=(20, 20))\n",
    "plt.savefig('language_converted_count.png')"
   ]
  },
  {
   "cell_type": "markdown",
   "metadata": {},
   "source": [
    "- Overall it appears that for two of the three languaes (English and Spanish), more users tend to be converted than not irrespective of what page is being used.\n",
    "- In fact, the English version of the page appears to have converted about 2/3 of the users into news subscribers who visited the site. \n",
    "- Only in the case of the French version did the number of people who remained unconverted exceeded the number of users who were converted."
   ]
  },
  {
   "cell_type": "code",
   "execution_count": 18,
   "metadata": {
    "scrolled": true
   },
   "outputs": [
    {
     "data": {
      "image/png": "[encoded data removed]",
      "text/plain": [
       "<Figure size 432x288 with 1 Axes>"
      ]
     },
     "metadata": {},
     "output_type": "display_data"
    }
   ],
   "source": [
    "#Creating a swarm plot to understand the relationship between timespent and conversion rate\n",
    "bo = sns.swarmplot(x = 'converted', y ='time_spent_on_the_page', data = df, palette = 'hls')\n",
    "bo.set_ylabel(\"Minutes Spent on Page\", fontsize = 10)\n",
    "bo.set_xlabel(\"Converted\", fontsize = 10)\n",
    "bo.set(title='Conversion vs Time Spent on Page')\n",
    "#figure(figsize=(10, 10))\n",
    "plt.savefig('converted_swarn.png')"
   ]
  },
  {
   "cell_type": "markdown",
   "metadata": {},
   "source": [
    "- There appears to be a larger variance in the time spent by the users who not were converted compared to those who were. \n",
    "- Additionally, in this sample, given that the overall range of the time spent by users who were converted compared to those who were not, this may suggest that the more time a user spends on the page, the more likely they are to subscribe.  \n",
    "- The majority of the time spent by users who were converted is clustered between the 5-8 minute range, whereas the time spent by users who were not converted remain relatively more evenly dispersed between 0 and 7 minutes."
   ]
  },
  {
   "cell_type": "code",
   "execution_count": 19,
   "metadata": {},
   "outputs": [
    {
     "data": {
      "image/png": "[encoded data removed]",
      "text/plain": [
       "<Figure size 504x360 with 1 Axes>"
      ]
     },
     "metadata": {},
     "output_type": "display_data"
    }
   ],
   "source": [
    "#Creating box plots to analyze the time spent and conversion rates btween the old and new webpages\n",
    "plt.figure(figsize=(7,5))\n",
    "bo =sns.boxplot(x='landing_page', y='time_spent_on_the_page',hue = 'converted', data =df, palette= 'hls')\n",
    "bo.set_ylabel(\"Minutes Spent on Page\", fontsize = 10)\n",
    "bo.set_xlabel(\"Landing Page Version\", fontsize = 10)\n",
    "bo.set(title='Landing Page Used vs Time Spent on Page')\n",
    "#figure(figsize=(10, 10))\n",
    "plt.savefig('landing_page_converted_box_plot.png')"
   ]
  },
  {
   "cell_type": "markdown",
   "metadata": {},
   "source": [
    "- Comparing the conversion rates of both the old and new versions of the web page, there is less variance in the time spent on the new page by the treatment group compared to the control group on the old web page.\n",
    "- On both pages, there is less variance amongst users who were converted compared to those who were not. \n",
    "- The range of the time spent on the page by users of the treatment group who were then converted is higher than the range of the control group who were then converted.\n"
   ]
  },
  {
   "cell_type": "code",
   "execution_count": 20,
   "metadata": {},
   "outputs": [
    {
     "data": {
      "image/png": "[encoded data removed]",
      "text/plain": [
       "<Figure size 432x288 with 1 Axes>"
      ]
     },
     "metadata": {},
     "output_type": "display_data"
    }
   ],
   "source": [
    "#Creating a graph to understand how time spent is dispersed amongst the three language groups and how that impacts conversion\n",
    "lang = sns.swarmplot(x= 'language_preferred',y ='time_spent_on_the_page', data=df,hue ='converted',palette = 'hls')#.set(title='Languages vs Timespent')\n",
    "lang.set_ylabel(\"Minutes Spent on Page\", fontsize = 10)\n",
    "lang.set_xlabel(\"Language\", fontsize = 10)\n",
    "lang.set(title='Site Language vs Time Spent on Page')\n",
    "#figure(figsize=(10, 10))\n",
    "plt.savefig('language_converted_box_plot.png')"
   ]
  },
  {
   "cell_type": "markdown",
   "metadata": {},
   "source": [
    "Across all language groups, users who spend more time on the site tended to become subscribers to the site compared to those who did not. "
   ]
  },
  {
   "cell_type": "markdown",
   "metadata": {},
   "source": [
    "## Hypothesis Testing"
   ]
  },
  {
   "cell_type": "markdown",
   "metadata": {},
   "source": [
    "### Q1 Do the users spend more time on the new landing page than the old landing page?"
   ]
  },
  {
   "cell_type": "markdown",
   "metadata": {},
   "source": [
    "The null hypothesis (default assumption): <br>\n",
    "\n",
    "There is no difference between the time spent on the new page and the old page.\n",
    "\n",
    ">$H_0:\\mu_1new=\\mu_2old$\n",
    "\n",
    "The alternate hypothesis: <br>\n",
    "On average, more time is spent on the new page than the old one.\n",
    "\n",
    ">$H_a:\\mu_1new>\\mu_2old$"
   ]
  },
  {
   "cell_type": "code",
   "execution_count": 21,
   "metadata": {},
   "outputs": [
    {
     "data": {
      "image/png": "[encoded data removed]",
      "text/plain": [
       "<Figure size 432x288 with 1 Axes>"
      ]
     },
     "metadata": {},
     "output_type": "display_data"
    }
   ],
   "source": [
    "#Creating graph to analyze how much time is spent on the two landing pages\n",
    "#figure(figsize=(10, 10))\n",
    "lang= sns.barplot(x ='landing_page', y = 'time_spent_on_the_page', data= df, palette = 'pastel')\n",
    "lang.set_ylabel(\"Minutes Spent on Page\", fontsize = 10)\n",
    "lang.set_xlabel(\"Landing Page Version\", fontsize = 10)\n",
    "lang.set(title='Landing Page Version vs Time Spent on Page')\n",
    "#figure(figsize=(10, 10))\n",
    "plt.savefig('landing_page_timespent.png')"
   ]
  },
  {
   "cell_type": "code",
   "execution_count": 22,
   "metadata": {},
   "outputs": [
    {
     "data": {
      "image/png": "[encoded data removed]",
      "text/plain": [
       "<Figure size 432x288 with 1 Axes>"
      ]
     },
     "metadata": {},
     "output_type": "display_data"
    }
   ],
   "source": [
    "#Creating graph to analyze how much time is spent on the two landing pages in the form of box plots\n",
    "lang = sns.boxplot(x ='landing_page', y = 'time_spent_on_the_page', data =df, palette = 'pastel')\n",
    "lang.set_ylabel(\"Minutes Spent on Page\", fontsize = 10)\n",
    "lang.set_xlabel(\"Landing Page Version\", fontsize = 10)\n",
    "lang.set(title='Landing Page Version vs Time Spent on Page')\n",
    "#figure(figsize=(10, 10))\n",
    "plt.savefig('landing_time_spent_box_plot.png')"
   ]
  },
  {
   "cell_type": "markdown",
   "metadata": {},
   "source": [
    "- Upon first glance, overall the amount of time spent on the new page is greater than the time spent on the old page. \n",
    "- The time spent per user on the new page is  consistently in the higher range as 75% of values are 5min and above compared to the 3 minute and above mark for the old page. which lends credibility to the alternative hypothesis. \n",
    "\n",
    "- There is also significantly less variance among the users who viewed the new page. "
   ]
  },
  {
   "cell_type": "markdown",
   "metadata": {},
   "source": [
    "#### Hypothesis Testing: Equality of Means"
   ]
  },
  {
   "cell_type": "markdown",
   "metadata": {},
   "source": [
    "In order to test the viability of the null and alternative hypothesis on this sample, a simple equality of means T-test can be performed as the standard deviations of the populations are unknown. Given that the sample size for both users who were exposed to the new and the old pages is greater than 30, per the central limit theorem, a z-test could also be performed in this case."
   ]
  },
  {
   "cell_type": "code",
   "execution_count": 23,
   "metadata": {},
   "outputs": [],
   "source": [
    "#Calculating the mean and standard deviation of time spent per landing page\n",
    "time_spent = df[['landing_page', 'time_spent_on_the_page']].groupby('landing_page')['time_spent_on_the_page'].mean()\n",
    "time_spent_sigma = df[['landing_page', 'time_spent_on_the_page']].groupby('landing_page')['time_spent_on_the_page'].std()"
   ]
  },
  {
   "cell_type": "code",
   "execution_count": 24,
   "metadata": {},
   "outputs": [
    {
     "name": "stdout",
     "output_type": "stream",
     "text": [
      "the mean time spent on the old page is 4.532 minutes\n",
      "the mean time spent on the new page is 6.223 minutes\n",
      "the standard deviation of the time spent on the old page is 2.582 minutes\n",
      "the the standard deviation of the time spent on the new page is 1.817 minutes\n"
     ]
    }
   ],
   "source": [
    "#Assigning the mean and standard deviations for the old and new landing pages to individual variables\n",
    "old_pg_average, new_pg_average= time_spent['old'],time_spent['new']\n",
    "old_pg_sigma, new_pg_sigma= time_spent_sigma['old'],time_spent_sigma['new']\n",
    "\n",
    "#Printing variable assignment\n",
    "print(f'the mean time spent on the old page is {old_pg_average.round(3)} minutes')\n",
    "print(f'the mean time spent on the new page is {new_pg_average.round(3)} minutes')\n",
    "print(f'the standard deviation of the time spent on the old page is {old_pg_sigma.round(3)} minutes')\n",
    "print(f'the the standard deviation of the time spent on the new page is {new_pg_sigma.round(3)} minutes')"
   ]
  },
  {
   "cell_type": "code",
   "execution_count": 25,
   "metadata": {},
   "outputs": [],
   "source": [
    "#putting the old and new time spent in variables for further calculations\n",
    "all_time_spent = df[['landing_page', 'time_spent_on_the_page']]\n",
    "new = df[df['landing_page']=='new']\n",
    "old = df[df['landing_page']=='old']"
   ]
  },
  {
   "cell_type": "code",
   "execution_count": 26,
   "metadata": {},
   "outputs": [
    {
     "name": "stdout",
     "output_type": "stream",
     "text": [
      "The p-value is  0.0001392381225166549\n"
     ]
    }
   ],
   "source": [
    "#import the required functions\n",
    "from scipy.stats import ttest_ind\n",
    "\n",
    "# compute the test statistic and finding the p-value\n",
    "test_stat, p_value = ttest_ind(new['time_spent_on_the_page'], old['time_spent_on_the_page'].dropna(), equal_var = False, alternative = 'greater')\n",
    "print('The p-value is ', p_value)"
   ]
  },
  {
   "cell_type": "markdown",
   "metadata": {},
   "source": [
    "Given that the pvalue is less that .05 (representing the 5% significance level), based on this sample, there is evidence to suggest that we can reject the null hypothesis and conclude that users in the population tend to spend more time on the new page than the old one. "
   ]
  },
  {
   "cell_type": "markdown",
   "metadata": {},
   "source": [
    "### Q2  Is the conversion rate (the proportion of users who visit the landing page and get converted) for the new page greater than the conversion rate for the old page?"
   ]
  },
  {
   "cell_type": "markdown",
   "metadata": {},
   "source": [
    "\n",
    "The null hypothesis (default assumption): <br>\n",
    "the proportion of users who got converted that visited the new page is the same as the proportion of converted users who visited the old page.\n",
    "\n",
    ">$H_0:p_1new =p_2old$\n",
    "\n",
    "Alternate Hypothesis: <br>\n",
    "The proportion of converted users who visited the new page is greater than the proportion which visited the old page.\n",
    "\n",
    ">$H_a:p_1new > p_2old$"
   ]
  },
  {
   "cell_type": "code",
   "execution_count": 27,
   "metadata": {},
   "outputs": [],
   "source": [
    "#Creating dataframe with the number of users per group\n",
    "users_per_group = pd.DataFrame(df['landing_page'].value_counts())\n",
    "#Creating a dataframe with the number of converted users per group\n",
    "converted_per_group = pd.DataFrame(df[['converted', 'landing_page']][df[['converted', 'landing_page']]['converted'] =='yes']['landing_page'].value_counts())\n",
    "#Merging the two dataframes together\n",
    "merged = pd.merge(left=users_per_group, left_index=True,\n",
    "                  right=converted_per_group, right_index=True,\n",
    "                  how='inner')\n",
    "#Renaming Columns Appropriately\n",
    "merged =merged.rename(columns={\"landing_page_x\": \"Users per Group\", \"landing_page_y\": \"Converted\"})\n"
   ]
  },
  {
   "cell_type": "code",
   "execution_count": 28,
   "metadata": {},
   "outputs": [],
   "source": [
    "#Creating an \"Unconverted\" column for graphing purposes\n",
    "merged['Unconverted'] = merged['Users per Group'] - merged['Converted']\n",
    "conv = merged[['Converted', 'Unconverted']]"
   ]
  },
  {
   "cell_type": "code",
   "execution_count": 29,
   "metadata": {},
   "outputs": [
    {
     "data": {
      "text/html": [
       "<div>\n",
       "<style scoped>\n",
       "    .dataframe tbody tr th:only-of-type {\n",
       "        vertical-align: middle;\n",
       "    }\n",
       "\n",
       "    .dataframe tbody tr th {\n",
       "        vertical-align: top;\n",
       "    }\n",
       "\n",
       "    .dataframe thead th {\n",
       "        text-align: right;\n",
       "    }\n",
       "</style>\n",
       "<table border=\"1\" class=\"dataframe\">\n",
       "  <thead>\n",
       "    <tr style=\"text-align: right;\">\n",
       "      <th></th>\n",
       "      <th>Users per Group</th>\n",
       "      <th>Converted</th>\n",
       "      <th>Unconverted</th>\n",
       "    </tr>\n",
       "  </thead>\n",
       "  <tbody>\n",
       "    <tr>\n",
       "      <th>old</th>\n",
       "      <td>50</td>\n",
       "      <td>21</td>\n",
       "      <td>29</td>\n",
       "    </tr>\n",
       "    <tr>\n",
       "      <th>new</th>\n",
       "      <td>50</td>\n",
       "      <td>33</td>\n",
       "      <td>17</td>\n",
       "    </tr>\n",
       "  </tbody>\n",
       "</table>\n",
       "</div>"
      ],
      "text/plain": [
       "     Users per Group  Converted  Unconverted\n",
       "old               50         21           29\n",
       "new               50         33           17"
      ]
     },
     "execution_count": 29,
     "metadata": {},
     "output_type": "execute_result"
    }
   ],
   "source": [
    "merged"
   ]
  },
  {
   "cell_type": "code",
   "execution_count": 30,
   "metadata": {},
   "outputs": [
    {
     "data": {
      "image/png": "[encoded data removed]",
      "text/plain": [
       "<Figure size 432x288 with 1 Axes>"
      ]
     },
     "metadata": {},
     "output_type": "display_data"
    }
   ],
   "source": [
    "#Create Graph with title and labels\n",
    "sns.set()\n",
    "import matplotlib.ticker as mtick\n",
    "pro =sns.countplot(x='landing_page', data = df, hue = 'converted', palette = 'hls')\n",
    "pro.yaxis.set_major_formatter(mtick.PercentFormatter(xmax =50))\n",
    "pro.set(title='Landing Page Version vs Conversion Rate')\n",
    "pro.set_xticklabels(pro.get_xticklabels(),rotation = 360)\n",
    "pro.set_ylabel(\"Percentage of Group\", fontsize = 10)\n",
    "pro.set_xlabel(\"Page Viewed\", fontsize = 10)\n",
    "plt.legend(loc='upper right')\n",
    "plt.savefig('landing_page_conversion_rate1.png')"
   ]
  },
  {
   "cell_type": "markdown",
   "metadata": {},
   "source": [
    "- Of the users who visited the new landing page, about twice as many subscribed to the E-news service compared to those who did not. \n",
    "- In contrast, for the old version of the page, the number of users who did not subscribe exceeded those who did by about 20%.\n",
    "- This lends credibility to the alternative hypothesis  that the new webpage is far more effective than the old one at attracting new subscribers."
   ]
  },
  {
   "cell_type": "markdown",
   "metadata": {},
   "source": [
    "#### Hypothesis Testing: Equality of Two Proportions"
   ]
  },
  {
   "cell_type": "code",
   "execution_count": 31,
   "metadata": {},
   "outputs": [
    {
     "name": "stdout",
     "output_type": "stream",
     "text": [
      "The p-value is 0.016052616408112556\n"
     ]
    }
   ],
   "source": [
    "from statsmodels.stats.proportion import proportions_ztest\n",
    "\n",
    "# set the counts of converted users\n",
    "defect_count = np.array([merged.loc['new','Converted'], merged.loc['old','Converted']])\n",
    "\n",
    "# set the sample sizes\n",
    "nobs = np.array([merged.loc['new','Users per Group'], merged.loc['old','Users per Group']])\n",
    "\n",
    "# find the p-value\n",
    "test_stat, p_value = proportions_ztest(defect_count, nobs)\n",
    "print('The p-value is ' + str(p_value))"
   ]
  },
  {
   "cell_type": "markdown",
   "metadata": {},
   "source": [
    "Given that the pvalue is less than .05 for this sample of users, there is evidence to suggest that we can reject the null hypothesis and conclude that the users who visited the new landing page were more likely to be converted into subscribers than those exposed to the old site. "
   ]
  },
  {
   "cell_type": "markdown",
   "metadata": {},
   "source": [
    "### Q3 Does the converted status depend on the preferred language? "
   ]
  },
  {
   "cell_type": "markdown",
   "metadata": {},
   "source": [
    "The null hypothesis (default assumption):\n",
    "\n",
    ">$H_0:$ The conversion rate does not depend on language\n",
    "\n",
    "The alternate hypothesis:\n",
    "\n",
    ">$H_a:$ The conversion rate does depend on language"
   ]
  },
  {
   "cell_type": "code",
   "execution_count": 32,
   "metadata": {},
   "outputs": [
    {
     "data": {
      "image/png": "[encoded data removed]",
      "text/plain": [
       "<Figure size 432x288 with 1 Axes>"
      ]
     },
     "metadata": {},
     "output_type": "display_data"
    }
   ],
   "source": [
    "lang = sns.countplot(x = 'language_preferred', hue = 'converted', data = df, palette = 'hls')\n",
    "lang.set_ylabel(\"User Count\", fontsize = 10)\n",
    "lang.set_xlabel(\"Language\", fontsize = 10)\n",
    "lang.set(title='Site Language Conversion')\n",
    "#figure(figsize=(10, 10))\n",
    "plt.savefig('language_User_Count_Conversion.png')"
   ]
  },
  {
   "cell_type": "code",
   "execution_count": 33,
   "metadata": {},
   "outputs": [
    {
     "data": {
      "text/html": [
       "<div>\n",
       "<style scoped>\n",
       "    .dataframe tbody tr th:only-of-type {\n",
       "        vertical-align: middle;\n",
       "    }\n",
       "\n",
       "    .dataframe tbody tr th {\n",
       "        vertical-align: top;\n",
       "    }\n",
       "\n",
       "    .dataframe thead th {\n",
       "        text-align: right;\n",
       "    }\n",
       "</style>\n",
       "<table border=\"1\" class=\"dataframe\">\n",
       "  <thead>\n",
       "    <tr style=\"text-align: right;\">\n",
       "      <th>language_preferred</th>\n",
       "      <th>English</th>\n",
       "      <th>French</th>\n",
       "      <th>Spanish</th>\n",
       "      <th>Total</th>\n",
       "    </tr>\n",
       "    <tr>\n",
       "      <th>converted</th>\n",
       "      <th></th>\n",
       "      <th></th>\n",
       "      <th></th>\n",
       "      <th></th>\n",
       "    </tr>\n",
       "  </thead>\n",
       "  <tbody>\n",
       "    <tr>\n",
       "      <th>no</th>\n",
       "      <td>11</td>\n",
       "      <td>19</td>\n",
       "      <td>16</td>\n",
       "      <td>46</td>\n",
       "    </tr>\n",
       "    <tr>\n",
       "      <th>yes</th>\n",
       "      <td>21</td>\n",
       "      <td>15</td>\n",
       "      <td>18</td>\n",
       "      <td>54</td>\n",
       "    </tr>\n",
       "    <tr>\n",
       "      <th>Total</th>\n",
       "      <td>32</td>\n",
       "      <td>34</td>\n",
       "      <td>34</td>\n",
       "      <td>100</td>\n",
       "    </tr>\n",
       "  </tbody>\n",
       "</table>\n",
       "</div>"
      ],
      "text/plain": [
       "language_preferred  English  French  Spanish  Total\n",
       "converted                                          \n",
       "no                       11      19       16     46\n",
       "yes                      21      15       18     54\n",
       "Total                    32      34       34    100"
      ]
     },
     "execution_count": 33,
     "metadata": {},
     "output_type": "execute_result"
    }
   ],
   "source": [
    "#Computing a cross tab table for chi square analysis\n",
    "language_converted = pd.crosstab(df.converted, df.language_preferred, margins=True, margins_name=\"Total\")\n",
    "\n",
    "language_converted"
   ]
  },
  {
   "cell_type": "markdown",
   "metadata": {},
   "source": [
    "   #### Hypothesis Testing: Chi Square Test for Independence"
   ]
  },
  {
   "cell_type": "markdown",
   "metadata": {},
   "source": [
    "- When comparing users of the three available languages (French, Spanish, English), the English and Spanish versions of the new landing page appear to be attracting more subscribers compared to those who did not subscribe.\n",
    "- In fact the users who interacted with the English version of the page and then subscribed is double the number of English speaking users who did not subscribe. \n",
    "- The Spanish version was more evenly split between users who did and did not subscribe.\n",
    "- In contrast, the number of people who visited the French page and then subscribed is less than those that did."
   ]
  },
  {
   "cell_type": "code",
   "execution_count": 34,
   "metadata": {},
   "outputs": [
    {
     "name": "stdout",
     "output_type": "stream",
     "text": [
      "The p-value is 0.7970832186581233\n"
     ]
    }
   ],
   "source": [
    "# import the required function\n",
    "from scipy.stats import chi2_contingency\n",
    "\n",
    "# find the p-value\n",
    "chi, p_value, dof, expected = chi2_contingency(language_converted)\n",
    "print('The p-value is', p_value)"
   ]
  },
  {
   "cell_type": "markdown",
   "metadata": {},
   "source": [
    "- As the p-value is large in this case, we cannot reject the null hypothesis.\n",
    "- In other words, we have insufficient evidence based on the sample to conclude that language and conversion rate are dependent on eachother."
   ]
  },
  {
   "cell_type": "markdown",
   "metadata": {},
   "source": [
    "### Q4 Is the mean time spent on the new page same for the different language users?"
   ]
  },
  {
   "cell_type": "code",
   "execution_count": 35,
   "metadata": {},
   "outputs": [
    {
     "data": {
      "text/plain": [
       "language_preferred\n",
       "English    5.559063\n",
       "French     5.253235\n",
       "Spanish    5.331765\n",
       "Name: time_spent_on_the_page, dtype: float64"
      ]
     },
     "execution_count": 35,
     "metadata": {},
     "output_type": "execute_result"
    }
   ],
   "source": [
    "#Calculating the mean amount of time in minutes per language\n",
    "df.groupby('language_preferred')['time_spent_on_the_page'].mean()"
   ]
  },
  {
   "cell_type": "code",
   "execution_count": 36,
   "metadata": {
    "scrolled": true
   },
   "outputs": [
    {
     "data": {
      "image/png": "[encoded data removed]",
      "text/plain": [
       "<Figure size 432x288 with 1 Axes>"
      ]
     },
     "metadata": {},
     "output_type": "display_data"
    }
   ],
   "source": [
    "#Creating a boxplot to visualize the variances between the different groups \n",
    "lang = sns.boxplot(x='language_preferred', y='time_spent_on_the_page', data =df, palette = 'Set2')\n",
    "lang.set_ylabel(\"Minutes Spent on Page\", fontsize = 10)\n",
    "lang.set_xlabel(\"Language\", fontsize = 10)\n",
    "lang.set(title='Site Language vs Time Spent on Page')\n",
    "plt.savefig('language_anova_box_plot.png')\n",
    "#figure(figsize=(10, 10))"
   ]
  },
  {
   "cell_type": "markdown",
   "metadata": {},
   "source": [
    "- All three groups occupy a similar interquartile range of between 4 and 7 minutes per user.\n",
    "- the minutes spent on the Spanish version has the least amount of variance and appears to be more evenly distributed compared to French and English\n",
    "- French has the most variation out of all three languages.\n",
    "- The differing IQRs between the three groups suggest that they differ more in variance than in mean which makes sense given that their means are all around 5 minutes.\n",
    "- Given the highly similar means, this could likely suggest that we will not be able to reject the null hypothesis as the differences in range and variance within the three language groups appear more significant than the differences in mean among the three groups."
   ]
  },
  {
   "cell_type": "markdown",
   "metadata": {},
   "source": [
    "### Hypothesis Testing: ANOVA Test"
   ]
  },
  {
   "cell_type": "code",
   "execution_count": 37,
   "metadata": {},
   "outputs": [
    {
     "name": "stdout",
     "output_type": "stream",
     "text": [
      "The p-value is 0.5643684267997742\n"
     ]
    }
   ],
   "source": [
    "#Checking the normality of the distribution\n",
    "from scipy import stats\n",
    "\n",
    "# find the p-value\n",
    "w, p_value = stats.shapiro(df['time_spent_on_the_page']) \n",
    "print('The p-value is', p_value)"
   ]
  },
  {
   "cell_type": "markdown",
   "metadata": {},
   "source": [
    "Since the p value is high, the default assumption of normality cannot be rejected. This makes sense given that in the histogram plot, the time spent on the page appeared to follow a normal distribution as well as the fact that the mean and median values are both around 5 minutes."
   ]
  },
  {
   "cell_type": "code",
   "execution_count": 38,
   "metadata": {},
   "outputs": [
    {
     "name": "stdout",
     "output_type": "stream",
     "text": [
      "The p-value is 0.06515086840327314\n"
     ]
    }
   ],
   "source": [
    "#Assumption 2: Homogeneity of Variance\n",
    "#import the required function\n",
    "from scipy.stats import levene\n",
    "statistic, p_value = levene( df['time_spent_on_the_page'][df['language_preferred']==\"English\"], \n",
    "                                   df['time_spent_on_the_page'][df['language_preferred']==\"Spanish\"], \n",
    "                                   df['time_spent_on_the_page'][df['language_preferred']==\"French\"])\n",
    "# find the p-value\n",
    "print('The p-value is', p_value)"
   ]
  },
  {
   "cell_type": "markdown",
   "metadata": {},
   "source": [
    "- While the p-value is quite low at 6%, it is not low enough to exceed the 5% significance level, therefore, for the purposes of analysis, we can assume the homogeneity of variances between the three languages and proceed with the anova hypothesis testing."
   ]
  },
  {
   "cell_type": "markdown",
   "metadata": {},
   "source": [
    "ANOVA (Analysis of Variance)"
   ]
  },
  {
   "cell_type": "code",
   "execution_count": 39,
   "metadata": {},
   "outputs": [
    {
     "name": "stdout",
     "output_type": "stream",
     "text": [
      "The p-value is 0.8665610536012648\n"
     ]
    }
   ],
   "source": [
    "#import the required function\n",
    "from scipy.stats import f_oneway\n",
    "\n",
    "# perform one-way anova test\n",
    "test_stat, p_value = f_oneway(df.loc[df['language_preferred'] == 'English', 'time_spent_on_the_page'],\n",
    "                              df.loc[df['language_preferred'] == 'French', 'time_spent_on_the_page'],\n",
    "                              df.loc[df['language_preferred'] == 'Spanish', 'time_spent_on_the_page'])\n",
    "print('The p-value is ' + str(p_value))"
   ]
  },
  {
   "cell_type": "markdown",
   "metadata": {},
   "source": [
    "As the p-value for the anova test is large, as expected, we cannot reject the null hypothesis as it appears that the means of the time spent of the each language version of the page are all relatively equivalent within the context of the wider population based on the sample provided."
   ]
  },
  {
   "cell_type": "markdown",
   "metadata": {},
   "source": [
    "## Conclusion\n",
    "- Overall the new landing page appears to be more effective than the old landing page at gathering new subscribers. Where on the old page the number of visitors who did not subscribe exceeded those who did by ~20% based on the sample, on the new page, the number of users who subscribed nearly doubled those who did.  At a p-value of  ~1.6%, we can conclude that based on the random normal sample provided, that the new page was more effective than the old one.\n",
    "\n",
    "\n",
    "- The conversion rate does not appear to be impacted by the preferred language. Similarly the language version also does not appear to have a significant impact on the amount of time a user spends on a page as all three languages had a mean time of around 5 minutes. Overall, across all three languages, it appears the more time a user spends on the landing page regardless of the version, the more likely they are to subscribe.\n",
    "\n",
    "\n",
    "- Given the above facts, a contributing factor to the success of the new page could be that with a p-value of less than 1%, we can conclude that there is sufficient evidence from this sample that users tend to spend more time on the new page than the old one. One recommendation would be to add more interactive features to the new site to engage new visitors more thoroughly, enticing them to spend more time on the site and potentially subscribe as a result. \n",
    "\n"
   ]
  }
 ],
 "metadata": {
  "kernelspec": {
   "display_name": "Python 3",
   "language": "python",
   "name": "python3"
  },
  "language_info": {
   "codemirror_mode": {
    "name": "ipython",
    "version": 3
   },
   "file_extension": ".py",
   "mimetype": "text/x-python",
   "name": "python",
   "nbconvert_exporter": "python",
   "pygments_lexer": "ipython3",
   "version": "3.8.5"
  }
 },
 "nbformat": 4,
 "nbformat_minor": 5
}
